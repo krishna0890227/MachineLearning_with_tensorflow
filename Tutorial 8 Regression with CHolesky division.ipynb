{
 "cells": [
  {
   "cell_type": "code",
   "execution_count": 1,
   "metadata": {},
   "outputs": [],
   "source": [
    "import matplotlib.pyplot as plt\n",
    "import numpy as np\n",
    "import tensorflow as tf"
   ]
  },
  {
   "cell_type": "code",
   "execution_count": 9,
   "metadata": {},
   "outputs": [],
   "source": [
    "sess=tf.Session()\n",
    "x_vals=np.linspace(0, 10, 100)\n",
    "y_vals=x_vals + np.random.normal(0,1,100)"
   ]
  },
  {
   "cell_type": "code",
   "execution_count": 3,
   "metadata": {},
   "outputs": [],
   "source": [
    "x_column=np.transpose(np.matrix(x_vals))\n",
    "one_column=np.transpose(np.matrix(np.repeat(1, 100)))\n",
    "A=np.column_stack((x_column, one_column))\n",
    "b=np.transpose(np.matrix(y_vals))"
   ]
  },
  {
   "cell_type": "code",
   "execution_count": 4,
   "metadata": {},
   "outputs": [],
   "source": [
    "A_tensor=tf.constant(A)\n",
    "b_tensor=tf.constant(b)"
   ]
  },
  {
   "cell_type": "code",
   "execution_count": 16,
   "metadata": {},
   "outputs": [],
   "source": [
    "tA_A=tf.matmul(tf.transpose(A_tensor), A_tensor)\n",
    "L=tf.cholesky(tA_A)    ## How cholesky decompse the (2*2) matrix.\n",
    "tA_b=tf.matmul(tf.transpose(A_tensor), b)\n",
    "sol1=tf.matrix_solve(L, tA_b)    # what is matrix solve?\n",
    "sol2=tf.matrix_solve(L, sol1)     # why we need solution 1.\n",
    "solution_eval=sess.run(sol2)"
   ]
  },
  {
   "cell_type": "code",
   "execution_count": 17,
   "metadata": {},
   "outputs": [
    {
     "name": "stdout",
     "output_type": "stream",
     "text": [
      "0.9807801465553987 -1.835598762473937\n"
     ]
    }
   ],
   "source": [
    "slope=solution_eval[0][0]\n",
    "intercept=solution_eval[1][0]\n",
    "print(slope, intercept)"
   ]
  },
  {
   "cell_type": "code",
   "execution_count": 18,
   "metadata": {},
   "outputs": [
    {
     "data": {
      "image/png": "[encoded data removed]",
      "text/plain": [
       "<Figure size 432x288 with 1 Axes>"
      ]
     },
     "metadata": {
      "needs_background": "light"
     },
     "output_type": "display_data"
    }
   ],
   "source": [
    "best_fit=[]\n",
    "for i in x_vals:\n",
    "    best_fit.append(slope*i + intercept)\n",
    "    \n",
    "plt.plot(x_vals, y_vals, 'ro', label='actual data')\n",
    "plt.plot(x_vals, best_fit, 'b-', label='fitting data')\n",
    "plt.legend(loc='upper left')\n",
    "plt.show()"
   ]
  }
 ],
 "metadata": {
  "kernelspec": {
   "display_name": "Python 3",
   "language": "python",
   "name": "python3"
  },
  "language_info": {
   "codemirror_mode": {
    "name": "ipython",
    "version": 3
   },
   "file_extension": ".py",
   "mimetype": "text/x-python",
   "name": "python",
   "nbconvert_exporter": "python",
   "pygments_lexer": "ipython3",
   "version": "3.7.3"
  }
 },
 "nbformat": 4,
 "nbformat_minor": 2
}
