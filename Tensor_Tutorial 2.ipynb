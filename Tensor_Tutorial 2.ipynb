{
 "cells": [
  {
   "cell_type": "markdown",
   "metadata": {},
   "source": [
    "## Wrie a Simple Program for Tutorial 2"
   ]
  },
  {
   "cell_type": "markdown",
   "metadata": {},
   "source": [
    "## Section A"
   ]
  },
  {
   "cell_type": "markdown",
   "metadata": {},
   "source": [
    " A) Write a tensorflow program that pass two 1-D array of same size. The passed arrays must be have element-wise multiplication. The final result is also multiplied by constant. The program must display its output?"
   ]
  },
  {
   "cell_type": "markdown",
   "metadata": {},
   "source": [
    "### Step 1 : Load the Tensorflow and Create session"
   ]
  },
  {
   "cell_type": "code",
   "execution_count": 22,
   "metadata": {},
   "outputs": [],
   "source": [
    "import tensorflow as tf\n",
    "sess=tf.Session()\n",
    "import numpy as np"
   ]
  },
  {
   "cell_type": "markdown",
   "metadata": {},
   "source": [
    "### Step 2: Define array variables and placeholders"
   ]
  },
  {
   "cell_type": "code",
   "execution_count": 23,
   "metadata": {},
   "outputs": [],
   "source": [
    "X_vals=np.array([3.,5.,6.,9.])\n",
    "y_vals=np.array([3., 7., -1., -2.])\n",
    "const=tf.constant([5.])\n",
    "X_plac=tf.placeholder(tf.float32)\n",
    "y_plac=tf.placeholder(tf.float32)"
   ]
  },
  {
   "cell_type": "markdown",
   "metadata": {},
   "source": [
    "### Step 3: Define a model for tensorflow work"
   ]
  },
  {
   "cell_type": "code",
   "execution_count": 24,
   "metadata": {},
   "outputs": [],
   "source": [
    "output=tf.multiply(const, tf.multiply(X_plac, y_plac))"
   ]
  },
  {
   "cell_type": "markdown",
   "metadata": {},
   "source": [
    "### Step 4: Generate Output"
   ]
  },
  {
   "cell_type": "code",
   "execution_count": 25,
   "metadata": {},
   "outputs": [
    {
     "name": "stdout",
     "output_type": "stream",
     "text": [
      "[45.]\n",
      "[175.]\n",
      "[-30.]\n",
      "[-90.]\n"
     ]
    }
   ],
   "source": [
    "for i in range (4):\n",
    "    print(sess.run(output, feed_dict={X_plac:X_vals[i], y_plac:y_vals[i]}))"
   ]
  },
  {
   "cell_type": "markdown",
   "metadata": {},
   "source": [
    "## Section B"
   ]
  },
  {
   "cell_type": "markdown",
   "metadata": {},
   "source": [
    "B) Write a tensorflow program that pass two 1-D array of same size. The passed arrays should have vector wise multiplication and provide the results. The program must display its output?"
   ]
  },
  {
   "cell_type": "markdown",
   "metadata": {},
   "source": [
    "### Step 1 : Load TensorFlow and start a session"
   ]
  },
  {
   "cell_type": "code",
   "execution_count": 26,
   "metadata": {},
   "outputs": [],
   "source": [
    "import tensorflow as tf\n",
    "import numpy as np \n",
    "sess=tf.Session()\n"
   ]
  },
  {
   "cell_type": "markdown",
   "metadata": {},
   "source": [
    "### Step 2 :  Define input vectors and placeholders"
   ]
  },
  {
   "cell_type": "code",
   "execution_count": 75,
   "metadata": {},
   "outputs": [],
   "source": [
    "# The input matrix consists input vectors as \n",
    "X_vals=np.array([[1., 5., -2,], [3., 4., 8.], [-1., 3., -4]])\n",
    "y_vals=np.array([[3., 6., 7.], [2.,3.,6.], [1., 4., 7.]])\n",
    "\n",
    "# we are performing between vectors: \n",
    "X_plac=tf.placeholder(shape=(3), dtype=tf.float32)\n",
    "y_plac=tf.placeholder(shape=(3),  dtype=tf.float32)"
   ]
  },
  {
   "cell_type": "markdown",
   "metadata": {},
   "source": [
    "### Step 3: Define a model with tensorflow"
   ]
  },
  {
   "cell_type": "code",
   "execution_count": 76,
   "metadata": {},
   "outputs": [],
   "source": [
    "output=tf.multiply(X_plac, y_plac)\n",
    "# they are just a 1-D vector input in each time, we can directly multiply them."
   ]
  },
  {
   "cell_type": "markdown",
   "metadata": {},
   "source": [
    "### Step 4: Display the results"
   ]
  },
  {
   "cell_type": "code",
   "execution_count": 78,
   "metadata": {},
   "outputs": [
    {
     "name": "stdout",
     "output_type": "stream",
     "text": [
      "[ 3. 10. -2.]\n",
      "[18. 12. 32.]\n",
      "[ -7.  18. -28.]\n"
     ]
    }
   ],
   "source": [
    " for i in range (3):\n",
    "        X_input=X_vals[i,:]\n",
    "        y_input=y_vals[:, i]\n",
    "        print(sess.run(output, feed_dict={X_plac:X_input, y_plac:y_input}))"
   ]
  },
  {
   "cell_type": "markdown",
   "metadata": {},
   "source": [
    "## Section C:"
   ]
  },
  {
   "cell_type": "markdown",
   "metadata": {},
   "source": [
    "B) Write a tensorflow program that pass two 2-D array of same size. The passed arrays should have vector wise multiplication and provide the results.The program must display its output?"
   ]
  },
  {
   "cell_type": "markdown",
   "metadata": {},
   "source": [
    "#### Section B can be used for 2-Vectors as well as "
   ]
  },
  {
   "cell_type": "code",
   "execution_count": 79,
   "metadata": {},
   "outputs": [],
   "source": [
    "# The input matrix consists input vectors as \n",
    "X_vals=np.array([[1., 5., -2,], [3., 4., 8.], [-1., 3., -4]])\n",
    "y_vals=np.array([[3., 6., 7.], [2.,3.,6.], [1., 4., 7.]])\n",
    "\n",
    "# we are performing between vectors: \n",
    "X_plac=tf.placeholder(shape=(3, 1), dtype=tf.float32)\n",
    "y_plac=tf.placeholder(shape=(1, 3),  dtype=tf.float32)"
   ]
  },
  {
   "cell_type": "code",
   "execution_count": 80,
   "metadata": {},
   "outputs": [],
   "source": [
    "output=tf.matmul(X_plac, y_plac)"
   ]
  },
  {
   "cell_type": "code",
   "execution_count": 81,
   "metadata": {},
   "outputs": [
    {
     "name": "stdout",
     "output_type": "stream",
     "text": [
      "[[  3.   6.   7.]\n",
      " [ 15.  30.  35.]\n",
      " [ -6. -12. -14.]]\n",
      "[[ 6.  9. 18.]\n",
      " [ 8. 12. 24.]\n",
      " [16. 24. 48.]]\n",
      "[[ -1.  -4.  -7.]\n",
      " [  3.  12.  21.]\n",
      " [ -4. -16. -28.]]\n"
     ]
    }
   ],
   "source": [
    " for i in range (3):\n",
    "        X_input=X_vals[i,:]\n",
    "        X_input=np.reshape(X_input, (3, 1))\n",
    "        y_input=y_vals[i, :]\n",
    "        y_input=np.reshape(y_input, (1, 3))\n",
    "        print(sess.run(output, feed_dict={X_plac:X_input, y_plac:y_input}))"
   ]
  },
  {
   "cell_type": "markdown",
   "metadata": {},
   "source": [
    "#### Note: you need to study about matrix reshaping, matrix multiplication and placeholder definition for further study. "
   ]
  }
 ],
 "metadata": {
  "kernelspec": {
   "display_name": "Python 3",
   "language": "python",
   "name": "python3"
  },
  "language_info": {
   "codemirror_mode": {
    "name": "ipython",
    "version": 3
   },
   "file_extension": ".py",
   "mimetype": "text/x-python",
   "name": "python",
   "nbconvert_exporter": "python",
   "pygments_lexer": "ipython3",
   "version": "3.7.1"
  }
 },
 "nbformat": 4,
 "nbformat_minor": 2
}
