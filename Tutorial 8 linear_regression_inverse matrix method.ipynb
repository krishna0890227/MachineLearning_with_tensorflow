{
 "cells": [
  {
   "cell_type": "markdown",
   "metadata": {},
   "source": [
    "## Tutorial 6 Linear Regression "
   ]
  },
  {
   "cell_type": "markdown",
   "metadata": {},
   "source": [
    "#### Step 1: Load tensorflow, numpy and create Session"
   ]
  },
  {
   "cell_type": "code",
   "execution_count": 1,
   "metadata": {},
   "outputs": [],
   "source": [
    "import matplotlib.pyplot as plt\n",
    "import numpy as np\n",
    "import tensorflow as tf\n",
    "sess=tf.Session()"
   ]
  },
  {
   "cell_type": "markdown",
   "metadata": {},
   "source": [
    "#### Step 2: Generate random input variables"
   ]
  },
  {
   "cell_type": "code",
   "execution_count": 2,
   "metadata": {},
   "outputs": [
    {
     "name": "stdout",
     "output_type": "stream",
     "text": [
      "[ 0.          0.1010101   0.2020202   0.3030303   0.4040404   0.50505051\n",
      "  0.60606061  0.70707071  0.80808081  0.90909091  1.01010101  1.11111111\n",
      "  1.21212121  1.31313131  1.41414141  1.51515152  1.61616162  1.71717172\n",
      "  1.81818182  1.91919192  2.02020202  2.12121212  2.22222222  2.32323232\n",
      "  2.42424242  2.52525253  2.62626263  2.72727273  2.82828283  2.92929293\n",
      "  3.03030303  3.13131313  3.23232323  3.33333333  3.43434343  3.53535354\n",
      "  3.63636364  3.73737374  3.83838384  3.93939394  4.04040404  4.14141414\n",
      "  4.24242424  4.34343434  4.44444444  4.54545455  4.64646465  4.74747475\n",
      "  4.84848485  4.94949495  5.05050505  5.15151515  5.25252525  5.35353535\n",
      "  5.45454545  5.55555556  5.65656566  5.75757576  5.85858586  5.95959596\n",
      "  6.06060606  6.16161616  6.26262626  6.36363636  6.46464646  6.56565657\n",
      "  6.66666667  6.76767677  6.86868687  6.96969697  7.07070707  7.17171717\n",
      "  7.27272727  7.37373737  7.47474747  7.57575758  7.67676768  7.77777778\n",
      "  7.87878788  7.97979798  8.08080808  8.18181818  8.28282828  8.38383838\n",
      "  8.48484848  8.58585859  8.68686869  8.78787879  8.88888889  8.98989899\n",
      "  9.09090909  9.19191919  9.29292929  9.39393939  9.49494949  9.5959596\n",
      "  9.6969697   9.7979798   9.8989899  10.        ] [-1.00538832  1.04826349 -0.28985674  1.13988084  1.27025111 -0.39898425\n",
      "  1.86837466  0.32813887  1.75169471  1.12929827 -1.70466887  0.42685297\n",
      "  0.88354237  1.7347966   2.69753947  2.0986494   1.33967077  1.36998331\n",
      "  1.06342438  1.66771386  2.43976437  1.53773148  2.47969307  2.6995354\n",
      "  2.94821778  2.44337018  2.40580027  1.72983311  5.01394345  4.42450052\n",
      "  3.0654934   3.0079285   4.38339138  3.5035933   3.6456925   3.62660387\n",
      "  3.50915384  4.89814016  4.31637045  3.35102282  2.35937852  6.7544573\n",
      "  5.29900819  4.04253117  4.734785    3.60504334  4.08244196  3.73535908\n",
      "  4.20079943  5.7607508   5.53447385  4.77170176  5.03408868  4.75249358\n",
      "  6.78157955  9.1909562   7.18159427  7.52284716  6.08215315  6.94844317\n",
      "  5.48492617  5.85414948  7.87717851  6.05283982  7.05709972  5.93013782\n",
      "  8.38527991  7.03615361  8.12676256  7.92729521  5.74229149  8.02411683\n",
      "  5.95766159  6.73009697  7.73768268  7.81506268  7.48082633  9.29010499\n",
      "  6.70523893 10.7277093   8.9685838   7.40365103  9.46024333  9.79616878\n",
      "  8.01700664  8.52531456  7.79756667  9.90289705  6.26244727  9.23853879\n",
      "  8.58608796 11.83411653 10.91819051 10.7493918   9.7071125   9.29095004\n",
      "  9.75739568 10.03908784 10.97689232 10.23379069]\n",
      "(100, 1)\n"
     ]
    }
   ],
   "source": [
    "\n",
    "x_vals=np.linspace(0, 10, 100)\n",
    "y_vals=x_vals + np.random.normal(0, 1, 100)\n",
    "print(x_vals, y_vals)\n",
    "X_column=np.transpose(np.matrix(x_vals))\n",
    "ones_column=np.transpose(np.matrix(np.repeat(1,100)))\n",
    "A=np.column_stack((X_column, ones_column))\n",
    "b=np.transpose(np.matrix(y_vals))\n",
    "print(b.shape)"
   ]
  },
  {
   "cell_type": "code",
   "execution_count": 3,
   "metadata": {},
   "outputs": [],
   "source": [
    "A_tensor=tf.constant(A)\n",
    "b_tensor=tf.constant(b)"
   ]
  },
  {
   "cell_type": "markdown",
   "metadata": {},
   "source": [
    "#### Step 3: Perform Matrix inverse operation "
   ]
  },
  {
   "cell_type": "code",
   "execution_count": 4,
   "metadata": {},
   "outputs": [
    {
     "name": "stdout",
     "output_type": "stream",
     "text": [
      "(2, 2)\n",
      "(2, 100)\n"
     ]
    }
   ],
   "source": [
    "tA_A=tf.matmul(tf.transpose(A_tensor), A_tensor)\n",
    "print(tA_A.shape)\n",
    "tA_INV=tf.matrix_inverse(tA_A)\n",
    "product=tf.matmul(tA_INV, tf.transpose(A_tensor))\n",
    "print(product.shape)\n",
    "solution=tf.matmul(product, b_tensor)\n",
    "solution_eval=sess.run(solution)"
   ]
  },
  {
   "cell_type": "markdown",
   "metadata": {},
   "source": [
    "#### Step 4: calculate Slope and intercept"
   ]
  },
  {
   "cell_type": "code",
   "execution_count": 5,
   "metadata": {},
   "outputs": [
    {
     "name": "stdout",
     "output_type": "stream",
     "text": [
      "1.0429647666942494 0.04149507957352505\n"
     ]
    }
   ],
   "source": [
    "slope=solution_eval[0][0]\n",
    "intercept=solution_eval[1][0]\n",
    "print(slope, intercept)"
   ]
  },
  {
   "cell_type": "markdown",
   "metadata": {},
   "source": [
    "#### Step 4: fit the slope and intercept"
   ]
  },
  {
   "cell_type": "code",
   "execution_count": 6,
   "metadata": {},
   "outputs": [
    {
     "data": {
      "image/png": "[encoded data removed]",
      "text/plain": [
       "<Figure size 432x288 with 1 Axes>"
      ]
     },
     "metadata": {
      "needs_background": "light"
     },
     "output_type": "display_data"
    }
   ],
   "source": [
    "import matplotlib.pyplot as plt\n",
    "best_fit=[]\n",
    "for i in x_vals:\n",
    "    best_fit.append(slope*i + intercept )\n",
    "\n",
    "plt.plot(x_vals, y_vals, 'ro', label='original data')\n",
    "plt.plot(x_vals, best_fit, 'b-', label='regression fitting')\n",
    "plt.legend(loc='upper left')\n",
    "plt.show()"
   ]
  }
 ],
 "metadata": {
  "kernelspec": {
   "display_name": "Python 3",
   "language": "python",
   "name": "python3"
  },
  "language_info": {
   "codemirror_mode": {
    "name": "ipython",
    "version": 3
   },
   "file_extension": ".py",
   "mimetype": "text/x-python",
   "name": "python",
   "nbconvert_exporter": "python",
   "pygments_lexer": "ipython3",
   "version": "3.7.1"
  }
 },
 "nbformat": 4,
 "nbformat_minor": 2
}
