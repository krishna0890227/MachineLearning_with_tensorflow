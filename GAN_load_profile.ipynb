{
 "cells": [
  {
   "cell_type": "code",
   "execution_count": 1,
   "metadata": {},
   "outputs": [],
   "source": [
    "import tensorflow as tf\n",
    "from tensorflow.examples.tutorials.mnist import input_data\n",
    "import numpy as np\n",
    "import matplotlib.pyplot as plt\n",
    "%matplotlib inline"
   ]
  },
  {
   "cell_type": "code",
   "execution_count": 151,
   "metadata": {},
   "outputs": [
    {
     "name": "stdout",
     "output_type": "stream",
     "text": [
      "3\n",
      "   a  b\n",
      "0  0  0\n",
      "1  2  3\n",
      "2  3  4\n"
     ]
    },
    {
     "data": {
      "text/html": [
       "<div>\n",
       "<style scoped>\n",
       "    .dataframe tbody tr th:only-of-type {\n",
       "        vertical-align: middle;\n",
       "    }\n",
       "\n",
       "    .dataframe tbody tr th {\n",
       "        vertical-align: top;\n",
       "    }\n",
       "\n",
       "    .dataframe thead th {\n",
       "        text-align: right;\n",
       "    }\n",
       "</style>\n",
       "<table border=\"1\" class=\"dataframe\">\n",
       "  <thead>\n",
       "    <tr style=\"text-align: right;\">\n",
       "      <th></th>\n",
       "      <th>a</th>\n",
       "      <th>b</th>\n",
       "      <th>0</th>\n",
       "      <th>1</th>\n",
       "      <th>2</th>\n",
       "    </tr>\n",
       "  </thead>\n",
       "  <tbody>\n",
       "    <tr>\n",
       "      <th>0</th>\n",
       "      <td>1.0</td>\n",
       "      <td>2.0</td>\n",
       "      <td>NaN</td>\n",
       "      <td>NaN</td>\n",
       "      <td>NaN</td>\n",
       "    </tr>\n",
       "    <tr>\n",
       "      <th>1</th>\n",
       "      <td>2.0</td>\n",
       "      <td>3.0</td>\n",
       "      <td>NaN</td>\n",
       "      <td>NaN</td>\n",
       "      <td>NaN</td>\n",
       "    </tr>\n",
       "    <tr>\n",
       "      <th>2</th>\n",
       "      <td>3.0</td>\n",
       "      <td>4.0</td>\n",
       "      <td>NaN</td>\n",
       "      <td>NaN</td>\n",
       "      <td>NaN</td>\n",
       "    </tr>\n",
       "    <tr>\n",
       "      <th>3</th>\n",
       "      <td>NaN</td>\n",
       "      <td>NaN</td>\n",
       "      <td>0.0</td>\n",
       "      <td>2.0</td>\n",
       "      <td>3.0</td>\n",
       "    </tr>\n",
       "    <tr>\n",
       "      <th>4</th>\n",
       "      <td>NaN</td>\n",
       "      <td>NaN</td>\n",
       "      <td>0.0</td>\n",
       "      <td>3.0</td>\n",
       "      <td>4.0</td>\n",
       "    </tr>\n",
       "  </tbody>\n",
       "</table>\n",
       "</div>"
      ],
      "text/plain": [
       "     a    b    0    1    2\n",
       "0  1.0  2.0  NaN  NaN  NaN\n",
       "1  2.0  3.0  NaN  NaN  NaN\n",
       "2  3.0  4.0  NaN  NaN  NaN\n",
       "3  NaN  NaN  0.0  2.0  3.0\n",
       "4  NaN  NaN  0.0  3.0  4.0"
      ]
     },
     "execution_count": 151,
     "metadata": {},
     "output_type": "execute_result"
    }
   ],
   "source": [
    "x=pd.DataFrame()\n",
    "y=pd.DataFrame()\n",
    "x[\"a\"]=[1, 2, 3]\n",
    "x[\"b\"]=[2, 3, 4]\n",
    "y[\"a\"]=[0, 2, 3]\n",
    "y[\"b\"]=[0, 3, 4]\n",
    "print(len(x))\n",
    "print(y)\n",
    "x.append(y.T, ignore_index=True)\n"
   ]
  },
  {
   "cell_type": "code",
   "execution_count": 172,
   "metadata": {},
   "outputs": [],
   "source": [
    "import pandas as pd\n",
    "data1=pd.read_csv(\"Daily_Residential_November.csv\")\n",
    "Household_ID=8\n",
    "def data_set(data, H_id, count):\n",
    "    total_data=pd.DataFrame()\n",
    "    for i in range(0, count):\n",
    "        data_house=data.iloc[(H_id-i-1)*24:(H_id-i)*24, :]\n",
    "        data_house=data_house\n",
    "        total_data=pd.concat([total_data,data_house], ignore_index=True)\n",
    "    \n",
    "    return total_data\n"
   ]
  },
  {
   "cell_type": "code",
   "execution_count": 174,
   "metadata": {},
   "outputs": [
    {
     "name": "stdout",
     "output_type": "stream",
     "text": [
      "(72, 30)\n",
      "[[0.3720000000000001 0.515 0.36 ... 0.332 0.326 0.441]\n",
      " [0.26 0.441 0.319 ... 0.307 0.336 0.398]\n",
      " [0.222 0.391 0.278 ... 0.322 0.319 0.37]\n",
      " ...\n",
      " [0.7490000000000001 0.614 0.425 ... 0.632 0.597 0.315]\n",
      " [0.861 0.396 1.508 ... 0.669 0.261 0.512]\n",
      " [0.626 0.249 0.725 ... 0.5720000000000001 0.268 0.483]]\n"
     ]
    }
   ],
   "source": [
    "data=data_set(data1, 8, 3)\n",
    "data=data.values\n",
    "work_data=data[:, 1:]\n",
    "print(work_data.shape)\n",
    "print(work_data)"
   ]
  },
  {
   "cell_type": "code",
   "execution_count": 177,
   "metadata": {},
   "outputs": [],
   "source": [
    "work_data=work_data.reshape(90, 24)"
   ]
  },
  {
   "cell_type": "code",
   "execution_count": 179,
   "metadata": {},
   "outputs": [
    {
     "name": "stdout",
     "output_type": "stream",
     "text": [
      "[0.3720000000000001 0.515 0.36 0.41 0.282 0.485 0.395 0.43\n",
      " 0.4320000000000001 0.4370000000000001 0.388 0.426 0.419\n",
      " 0.5870000000000001 0.275 0.513 0.484 0.423 0.451 0.43 0.406 0.72 0.313\n",
      " 0.278]\n"
     ]
    }
   ],
   "source": [
    "print(work_data[0,:])"
   ]
  },
  {
   "cell_type": "code",
   "execution_count": 180,
   "metadata": {},
   "outputs": [],
   "source": [
    "h1_dim=30\n",
    "h2_dim=60\n",
    "dim=24\n",
    "batch_size=6"
   ]
  },
  {
   "cell_type": "code",
   "execution_count": 181,
   "metadata": {},
   "outputs": [],
   "source": [
    "\n",
    "def generator_(z_noise):\n",
    "    n_input=np.random.uniform(-1,1, size=(6, 24)).astype(np.float32)\n",
    "    w1=tf.Variable(tf.truncated_normal([6, 24], stddev=0.1), name=\"w1_g\", dtype=tf.float32)\n",
    "    b1=tf.Variable(tf.zeros([24]), name=\"b1_g\", dtype=tf.float32)\n",
    "    h1=tf.nn.relu(tf.matmul(z_noise, w1)+b1)\n",
    "    w2=tf.Variable(tf.truncated_normal([24, 6], stddev=0.1), name=\"w2_g\", dtype=tf.float32)\n",
    "    b2=tf.Variable(tf.zeros([6]), name=\"b2_g\", dtype=tf.float32)\n",
    "    h2=tf.nn.relu(tf.matmul(h1, w2)+b2)\n",
    "    w3=tf.Variable(tf.truncated_normal([6,24], stddev=0.1), name=\"w3_g\", dtype=tf.float32)\n",
    "    b3=tf.Variable(tf.zeros([24]), name=\"b3_g\", dtype=tf.float32)\n",
    "    h3=tf.matmul(h2, w3) +b3\n",
    "    out_gen = tf.nn.tanh(h3)\n",
    "    #out_gen=out_gen+0.2*n_input\n",
    "    weights_g=[w1, b1, w2, b2, w3,b3]\n",
    "    return out_gen, weights_g"
   ]
  },
  {
   "cell_type": "code",
   "execution_count": 182,
   "metadata": {},
   "outputs": [],
   "source": [
    "\n",
    "\n",
    "def discriminator_(x, out_gen, keep_prob):\n",
    "    x_all=tf.concat([x, out_gen], 0)\n",
    "    w1=tf.Variable(tf.truncated_normal([24, 24], stddev=0.1), name=\"w1_d\", dtype=tf.float32)\n",
    "    b1=tf.Variable(tf.zeros([24]), name=\"b1_d\", dtype=tf.float32)\n",
    "    h1=tf.nn.dropout(tf.nn.relu(tf.matmul(x_all, w1)+b1), keep_prob)\n",
    "    w2=tf.Variable(tf.truncated_normal([24, 24], stddev=0.1), name=\"w3_d\", dtype=tf.float32)\n",
    "    b2=tf.Variable(tf.zeros([24]), name=\"b2_d\", dtype=tf.float32)\n",
    "    h2=tf.nn.dropout(tf.nn.relu(tf.matmul(h1, w2) + b2), keep_prob)\n",
    "    w3=tf.Variable(tf.truncated_normal([24,24], stddev=0.1), name=\"w3_d\", dtype=tf.float32)\n",
    "    b3=tf.Variable(tf.zeros([24]), name=\"d_b3\", dtype=tf.float32)\n",
    "    h3=tf.matmul(h2,w3)+b3\n",
    "    y_data=tf.nn.sigmoid(tf.slice(h3,[0,0], [batch_size, -1], name=None))\n",
    "    y_fake=tf.nn.sigmoid(tf.slice(h3, [batch_size, 0], [batch_size,-1], name=None))\n",
    "    print(y_data.shape)\n",
    "    print(y_fake.shape)\n",
    "    weights_d=[w1, b1, w2, b2, w3, b3]\n",
    "    return y_data, y_fake, weights_d\n",
    "                         "
   ]
  },
  {
   "cell_type": "code",
   "execution_count": 183,
   "metadata": {},
   "outputs": [
    {
     "name": "stdout",
     "output_type": "stream",
     "text": [
      "(6, 24)\n",
      "(6, 24)\n"
     ]
    }
   ],
   "source": [
    "\n",
    "x=tf.placeholder(tf.float32, [6, 24], name=\"x-data\")\n",
    "z_noise=tf.placeholder(tf.float32, [24, 6], name=\"z_prior\")\n",
    "# Dropout probability\n",
    "keep_prob=tf.placeholder(tf.float32, name=\"keep_prob\")\n",
    "# generate the output ops for generator and also define the weights\n",
    "out_gen, weights_g=generator_(z_noise)\n",
    "# Define the output ops and weihts for Discriminator\n",
    "y_data, y_fake, weights_d= discriminator_(x, out_gen, keep_prob)\n",
    "# Cost function for Discriminator and Generator\n",
    "discr_loss= -(tf.log(y_data) + tf.log(1-y_fake))\n",
    "gen_loss= - tf.log(y_fake)\n",
    "optimizer=tf.train.AdamOptimizer(0.0001)\n",
    "d_trainer=optimizer.minimize(discr_loss, var_list=weights_d)\n",
    "g_trainer=optimizer.minimize(gen_loss, var_list=weights_g)\n",
    "init = tf.global_variables_initializer()\n",
    "saver=tf.train.Saver()"
   ]
  },
  {
   "cell_type": "code",
   "execution_count": 184,
   "metadata": {},
   "outputs": [
    {
     "name": "stdout",
     "output_type": "stream",
     "text": [
      "(6, 24)\n"
     ]
    }
   ],
   "source": [
    "print(y_data.shape)"
   ]
  },
  {
   "cell_type": "code",
   "execution_count": 186,
   "metadata": {},
   "outputs": [
    {
     "name": "stdout",
     "output_type": "stream",
     "text": [
      "(90, 24)\n"
     ]
    },
    {
     "name": "stderr",
     "output_type": "stream",
     "text": [
      "C:\\Users\\Krishna\\Anaconda3\\lib\\site-packages\\sklearn\\utils\\validation.py:595: DataConversionWarning: Data with input dtype object was converted to float64 by MinMaxScaler.\n",
      "  warnings.warn(msg, DataConversionWarning)\n"
     ]
    }
   ],
   "source": [
    "from sklearn.preprocessing import MinMaxScaler\n",
    "scaler=MinMaxScaler(feature_range=(-1,1))\n",
    "batch_x1=np.array(work_data)\n",
    "batch_x=scaler.fit_transform(batch_x1)\n",
    "batch_x=batch_x\n",
    "print(batch_x.shape)"
   ]
  },
  {
   "cell_type": "code",
   "execution_count": 187,
   "metadata": {},
   "outputs": [
    {
     "data": {
      "text/plain": [
       "'./GAN_Data-3999'"
      ]
     },
     "execution_count": 187,
     "metadata": {},
     "output_type": "execute_result"
    }
   ],
   "source": [
    "\n",
    "\n",
    "sess=tf.Session()\n",
    "sess.run(init)\n",
    "z_sample=np.random.uniform(-1,1, size=(24, batch_size)).astype(np.float32)\n",
    "\n",
    "for i in range(4000):\n",
    "    \n",
    "    rand_index=np.random.choice(len(data), size=batch_size) \n",
    "    x_value=batch_x[rand_index]\n",
    "     \n",
    "    z_value= np.random.uniform(-1,1, size=(24, batch_size)).astype(np.float32)\n",
    "    sess.run(d_trainer, feed_dict={x:x_value, z_noise:z_value, keep_prob:0.7})\n",
    "    sess.run(g_trainer, feed_dict={x:x_value, z_noise:z_value, keep_prob:0.7})\n",
    "    [c1,c2]=sess.run([discr_loss, gen_loss], feed_dict={x:x_value, z_noise:z_value, keep_prob:0.07})\n",
    "    #print('iter:', i, 'cost of discriminator', c1, \"cost of generator\", c2)\n",
    "    \n",
    "\n",
    "out_val_img=sess.run(out_gen, feed_dict={z_noise: z_sample})\n",
    "saver.save(sess, \"./GAN_Data\", global_step=i)\n",
    "#-------------------------------------------------------------------------------------------\n"
   ]
  },
  {
   "cell_type": "code",
   "execution_count": 188,
   "metadata": {},
   "outputs": [],
   "source": [
    "Y_output=scaler.inverse_transform(c1)"
   ]
  },
  {
   "cell_type": "code",
   "execution_count": 192,
   "metadata": {},
   "outputs": [
    {
     "name": "stdout",
     "output_type": "stream",
     "text": [
      "[[0.312 0.6940000000000001 0.297 0.35200000000000004 1.136 0.614 0.309\n",
      "  0.88 1.204 0.287 0.65 0.763 0.252 0.481 0.325 0.219 0.219 0.628 0.499\n",
      "  0.332 0.222 0.55 0.259 0.517]\n",
      " [0.637 0.215 0.7509999999999999 0.635 0.991 0.546 0.521\n",
      "  0.8059999999999999 0.281 0.334 0.777 0.782 0.28300000000000003 0.748\n",
      "  0.898 1.099 0.441 0.72 0.239 0.502 0.636 0.483 0.319 0.7440000000000001]\n",
      " [0.523 0.314 0.481 0.5579999999999999 0.5820000000000001 0.426\n",
      "  0.7490000000000001 0.614 0.425 0.402 1.256 0.701 0.6629999999999999\n",
      "  0.8059999999999999 0.282 0.326 0.39 0.758 0.281 0.6609999999999999 1.0\n",
      "  0.8809999999999999 0.561 0.642]\n",
      " [0.281 1.169 0.295 0.6559999999999999 0.409 0.608 0.277 0.338 0.611\n",
      "  0.632 0.597 0.315 0.861 0.396 1.508 0.269 0.471 0.711 0.402\n",
      "  0.7909999999999999 0.284 0.39 0.345 0.539]\n",
      " [0.3 0.5539999999999999 0.364 0.77 0.6659999999999999 0.574 0.505\n",
      "  1.5019999999999998 0.26 0.621 0.237 0.322 0.255 0.331 0.243 0.669 0.261\n",
      "  0.512 0.626 0.249 0.725 0.34600000000000003 0.448 0.599]\n",
      " [0.535 0.51 0.847 1.5019999999999998 0.363 0.4320000000000001 1.013\n",
      "  0.396 0.349 0.5820000000000001 0.28600000000000003 0.35100000000000003\n",
      "  0.4920000000000001 0.653 0.256 0.368 0.222 0.315 0.267 0.447 0.337\n",
      "  0.5720000000000001 0.268 0.483]]\n"
     ]
    }
   ],
   "source": [
    "data.shape\n",
    "Y_actual= work_data[-6:, :]\n",
    "print(Y_actual)"
   ]
  },
  {
   "cell_type": "code",
   "execution_count": 195,
   "metadata": {},
   "outputs": [
    {
     "data": {
      "image/png": "[encoded data removed]",
      "text/plain": [
       "<Figure size 432x288 with 1 Axes>"
      ]
     },
     "metadata": {
      "needs_background": "light"
     },
     "output_type": "display_data"
    }
   ],
   "source": [
    "Y_GAN=Y_output.flatten()\n",
    "Y_GAN=Y_GAN/2\n",
    "Y_actual= work_data[-6:, :]\n",
    "Y_actual=Y_actual.flatten()\n",
    "plt.plot(Y_GAN, 'r-', label='GAN generated')\n",
    "plt.plot(Y_actual, 'b--', label='Actual load series')\n",
    "plt.legend(loc='upper left')\n",
    "plt.show()"
   ]
  },
  {
   "cell_type": "code",
   "execution_count": 98,
   "metadata": {},
   "outputs": [],
   "source": [
    "import math\n",
    "def Mape(actual,pred):\n",
    "    if (not len(actual) == len(pred) or len(actual) == 0):\n",
    "        return -1.0\n",
    "    total = 0.0\n",
    "    cons = 0.1\n",
    "    for x in range(len(actual)):\n",
    "         if (actual[x] <=cons):\n",
    "            total += abs((actual[x]-pred[x])/(cons+actual[x]))\n",
    "         else: \n",
    "            total += abs((actual[x]-pred[x])/actual[x])*100\n",
    "    return total/len(actual)"
   ]
  },
  {
   "cell_type": "code",
   "execution_count": 99,
   "metadata": {},
   "outputs": [],
   "source": [
    "import math\n",
    "def Rmse(actual,pred):\n",
    "\tif (not len(actual) == len(pred) or len(actual) == 0):\n",
    "\t\treturn -1.0\n",
    "\tsumSquares = 0.0\n",
    "\tfor x in range(len(actual)):\n",
    "\t\tsumSquares += math.pow(pred[x]-actual[x],2.0)\n",
    "\treturn math.sqrt(sumSquares/len(actual))"
   ]
  },
  {
   "cell_type": "code",
   "execution_count": 20,
   "metadata": {},
   "outputs": [],
   "source": [
    "from scipy.stats import uniform, norm\n",
    "import seaborn as sns"
   ]
  },
  {
   "cell_type": "code",
   "execution_count": 61,
   "metadata": {},
   "outputs": [
    {
     "name": "stdout",
     "output_type": "stream",
     "text": [
      "(720,)\n"
     ]
    }
   ],
   "source": [
    "input_data_2000=np.array(Residuals_2000)\n",
    "input_data1=input_data_2000.ravel()\n",
    "input_data_4000=np.array(Residuals_4000)\n",
    "input_data2=input_data_4000.ravel()\n",
    "input_data_6000=np.array(Residuals_6000)\n",
    "input_data3=input_data_6000.ravel()\n",
    "print(input_data.shape)"
   ]
  },
  {
   "cell_type": "code",
   "execution_count": 57,
   "metadata": {},
   "outputs": [
    {
     "data": {
      "image/png": "[encoded data removed]",
      "text/plain": [
       "<Figure size 432x288 with 1 Axes>"
      ]
     },
     "metadata": {},
     "output_type": "display_data"
    }
   ],
   "source": [
    "plt.plot(input_data1, 'r--', label='iter=2000')\n",
    "plt.plot(input_data2, 'k-.', label='iter=4000')\n",
    "plt.plot(input_data3, 'b:', label='iter=6000')\n",
    "plt.xlabel('Time index(in hour)',fontsize=12)\n",
    "plt.ylabel('Unexpected variations', fontsize=12)\n",
    "plt.grid(True)\n",
    "plt.axis([0, 100, -0.75, 1])\n",
    "plt.legend(loc='upper right')\n",
    "plt.show()"
   ]
  },
  {
   "cell_type": "code",
   "execution_count": 62,
   "metadata": {},
   "outputs": [],
   "source": [
    "def vector_series(data, seq):\n",
    "    data_2D=[]\n",
    "    for i in range((len(data)-seq+1)):\n",
    "        data_2D.append(data[i:i+seq])\n",
    "    return data_2D"
   ]
  },
  {
   "cell_type": "code",
   "execution_count": 63,
   "metadata": {},
   "outputs": [
    {
     "name": "stdout",
     "output_type": "stream",
     "text": [
      "<class 'list'>\n"
     ]
    }
   ],
   "source": [
    "matrix_load1=vector_series(input_data2, 24)\n",
    "print(type(matrix_load1))\n",
    "matrix_load=np.array(matrix_load1)"
   ]
  },
  {
   "cell_type": "code",
   "execution_count": 64,
   "metadata": {},
   "outputs": [
    {
     "name": "stdout",
     "output_type": "stream",
     "text": [
      "(697, 24)\n"
     ]
    }
   ],
   "source": [
    "print(matrix_load.shape)"
   ]
  },
  {
   "cell_type": "code",
   "execution_count": 65,
   "metadata": {},
   "outputs": [
    {
     "name": "stdout",
     "output_type": "stream",
     "text": [
      "673\n",
      "24\n"
     ]
    }
   ],
   "source": [
    "# split dataset: 90% for training and 10% for testing\n",
    "train_row = int(round(0.965 * matrix_load.shape[0]))\n",
    "train_set = matrix_load[:train_row, :]\n",
    "#0.967 for Rainy days, 0.9777 for sunny days , 0.9779 for cloudy and 0.9918 for all data set\n",
    "# shuffle the training set (but do not shuffle the test set)\n",
    "np.random.shuffle(train_set)\n",
    "# the training set\n",
    "X_train = train_set[:, :-1]\n",
    "# the last column is the true value to compute the mean-squared-error loss\n",
    "y_train = train_set[:, -1] \n",
    "# the test set\n",
    "X_test = matrix_load[train_row:, :-1]\n",
    "y_test = matrix_load[train_row:, -1]\n",
    "#########################################################\n",
    "# scalerX = StandardScaler().fit(X_train)\n",
    "# scalery = StandardScaler().fit(y_train)\n",
    "# X_train = scalerX.transform(X_train)\n",
    "# y_train = scalery.transform(y_train)\n",
    "# X_test = scalerX.transform(X_test)\n",
    "# y_test=y_test\n",
    "print(train_row)\n",
    "print(len(y_test))"
   ]
  }
 ],
 "metadata": {
  "kernelspec": {
   "display_name": "Python 3",
   "language": "python",
   "name": "python3"
  },
  "language_info": {
   "codemirror_mode": {
    "name": "ipython",
    "version": 3
   },
   "file_extension": ".py",
   "mimetype": "text/x-python",
   "name": "python",
   "nbconvert_exporter": "python",
   "pygments_lexer": "ipython3",
   "version": "3.7.1"
  }
 },
 "nbformat": 4,
 "nbformat_minor": 2
}
