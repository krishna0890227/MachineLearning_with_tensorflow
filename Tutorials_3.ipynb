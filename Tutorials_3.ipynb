{
 "cells": [
  {
   "cell_type": "markdown",
   "metadata": {},
   "source": [
    "# TensorFlow code for Tutorial 3 "
   ]
  },
  {
   "cell_type": "markdown",
   "metadata": {},
   "source": [
    "Write a program that defines the following Activation Functions in deep learning systems? A) ReLU Activation Function, B) Sigmoid Activatioon Function , C) Tanh Activation Function, D) Softsign Activation Function, E) Softplus Activation Function, F) ELU activation Fuction"
   ]
  },
  {
   "cell_type": "markdown",
   "metadata": {},
   "source": [
    "#### Why we need activation functions in Neural Networks (NN)?"
   ]
  },
  {
   "cell_type": "raw",
   "metadata": {},
   "source": [
    "Point 1: It is because they are the way of introducing non-linearities in Neural Networks. \n",
    "Point 2: They are mainily used for update weight and bias. \n",
    "Point 3: They help to preserve maximum possible variance of the dataset. \n",
    "Point 4: By calculating variance of our dataset, we can choose our activation functions. \n",
    "Point 5: Their position in NN is imporatant because they can produce the output within the range between 0 to 1. \n",
    "Point 6: We can build our own activation functions as per our requirement. \n",
    "Point 7: Zero centered activation are useful for zero variance dataset while some positve centered activation are useful for positive value dataset. "
   ]
  },
  {
   "cell_type": "code",
   "execution_count": 1,
   "metadata": {},
   "outputs": [],
   "source": [
    "import tensorflow as tf\n",
    "import numpy as np\n",
    "sess= tf.Session()\n",
    "import matplotlib.pyplot as plt\n",
    "X_array= 5*(np.linspace(-1, 1, 20))"
   ]
  },
  {
   "cell_type": "code",
   "execution_count": 2,
   "metadata": {},
   "outputs": [
    {
     "data": {
      "image/png": "[encoded data removed]",
      "text/plain": [
       "<Figure size 432x288 with 1 Axes>"
      ]
     },
     "metadata": {
      "needs_background": "light"
     },
     "output_type": "display_data"
    }
   ],
   "source": [
    "plt.plot(X_array)\n",
    "plt.show()"
   ]
  },
  {
   "cell_type": "markdown",
   "metadata": {},
   "source": [
    "Relu Activation Function:  $ ReLU: maximum (0, x) $\n",
    "Cap Relu Activation Function : $ Cap  RelU: minimum (maximum (0, x)) $\n",
    "\n",
    "Cap ReLU is the version of hard-sigmoid function and it is computationally faster. It doesnot suffer from vanishing (infinitesimally near zero) or exploding values. "
   ]
  },
  {
   "cell_type": "code",
   "execution_count": 4,
   "metadata": {},
   "outputs": [
    {
     "name": "stdout",
     "output_type": "stream",
     "text": [
      "[0.         0.         0.         0.         0.         0.\n",
      " 0.         0.         0.         0.         0.26315789 0.78947368\n",
      " 1.31578947 1.84210526 2.36842105 2.89473684 3.42105263 3.94736842\n",
      " 4.47368421 5.        ]\n"
     ]
    }
   ],
   "source": [
    "X_relu=sess.run(tf.nn.relu(X_array))\n",
    "print(X_relu)"
   ]
  },
  {
   "cell_type": "markdown",
   "metadata": {},
   "source": [
    "Sigmoid activation is also known as logistic function.  $ Sigmoid: 1/exp(-x) $ that provides output $ [0, 1]$ .  \n",
    "Now: Commonly not is used because it has tendency to zero out the back propagation terms during training. "
   ]
  },
  {
   "cell_type": "code",
   "execution_count": 5,
   "metadata": {},
   "outputs": [
    {
     "name": "stdout",
     "output_type": "stream",
     "text": [
      "[0.00669285 0.01127661 0.0189398  0.03164396 0.05241435 0.08561266\n",
      " 0.1368025  0.21151967 0.31228169 0.43458759 0.56541241 0.68771831\n",
      " 0.78848033 0.8631975  0.91438734 0.94758565 0.96835604 0.9810602\n",
      " 0.98872339 0.99330715]\n"
     ]
    }
   ],
   "source": [
    "X_sigmoid=sess.run(tf.nn.sigmoid(X_array))\n",
    "print(X_sigmoid)"
   ]
  },
  {
   "cell_type": "markdown",
   "metadata": {},
   "source": [
    "Tanh Activation Function:\n",
    "$ Tanh Activation: (exp(x) -exp(-x))/(exp(x) + exp(x))$\n",
    "Ouput variance: Zero centered. \n",
    "$ hyper tangent= hyper-sine / hyper-cosine $"
   ]
  },
  {
   "cell_type": "code",
   "execution_count": 6,
   "metadata": {},
   "outputs": [
    {
     "name": "stdout",
     "output_type": "stream",
     "text": [
      "[-0.9999092  -0.99973988 -0.99925488 -0.99786657 -0.99389948 -0.98261979\n",
      " -0.95099682 -0.865733   -0.65811078 -0.25724684  0.25724684  0.65811078\n",
      "  0.865733    0.95099682  0.98261979  0.99389948  0.99786657  0.99925488\n",
      "  0.99973988  0.9999092 ]\n"
     ]
    }
   ],
   "source": [
    "X_tanh=sess.run(tf.nn.tanh(X_array))\n",
    "print(X_tanh)"
   ]
  },
  {
   "cell_type": "markdown",
   "metadata": {},
   "source": [
    "e) Softsign Activation Function :\n",
    "$ Softsign: x/(abs(x) +1) $\n",
    "Variance Output: zero-centered\n",
    "It has continious apporximation to the sign function. "
   ]
  },
  {
   "cell_type": "code",
   "execution_count": 7,
   "metadata": {},
   "outputs": [
    {
     "name": "stdout",
     "output_type": "stream",
     "text": [
      "[-0.83333333 -0.81730769 -0.79787234 -0.77380952 -0.74324324 -0.703125\n",
      " -0.64814815 -0.56818182 -0.44117647 -0.20833333  0.20833333  0.44117647\n",
      "  0.56818182  0.64814815  0.703125    0.74324324  0.77380952  0.79787234\n",
      "  0.81730769  0.83333333]\n"
     ]
    }
   ],
   "source": [
    "X_Softsign=sess.run(tf.nn.softsign(X_array))\n",
    "print(X_Softsign)"
   ]
  },
  {
   "cell_type": "markdown",
   "metadata": {},
   "source": [
    "(f) SOftPlus Activation Function:\n",
    "$ softplus: log(exp(x) +1) $  .\n",
    "variance output: not Zero centered,  \n",
    "It is smoother version of ReLU activation function. (position centered)"
   ]
  },
  {
   "cell_type": "code",
   "execution_count": 8,
   "metadata": {},
   "outputs": [
    {
     "name": "stdout",
     "output_type": "stream",
     "text": [
      "[0.00671535 0.01134067 0.01912145 0.03215545 0.05383795 0.08950102\n",
      " 0.14711176 0.23764782 0.37437596 0.57019988 0.83335777 1.16384964\n",
      " 1.55343729 1.98921702 2.45792207 2.9485748  3.45320808 3.96648987\n",
      " 4.48502488 5.00671535]\n"
     ]
    }
   ],
   "source": [
    "X_SOftPlus=sess.run(tf.nn.softplus(X_array))\n",
    "print(X_SOftPlus)"
   ]
  },
  {
   "cell_type": "markdown",
   "metadata": {},
   "source": [
    "(G) Exponential Linear Unit (ELU): \n",
    "   $ ELU: if x<0, (exp(x) +1) or else x $  . \n",
    "    Variance ouput: Positive Centered. "
   ]
  },
  {
   "cell_type": "code",
   "execution_count": 9,
   "metadata": {},
   "outputs": [
    {
     "name": "stdout",
     "output_type": "stream",
     "text": [
      "[-0.99326205 -0.98859478 -0.98069456 -0.96732198 -0.94468642 -0.90637156\n",
      " -0.84151657 -0.73173755 -0.54591628 -0.23137947  0.26315789  0.78947368\n",
      "  1.31578947  1.84210526  2.36842105  2.89473684  3.42105263  3.94736842\n",
      "  4.47368421  5.        ]\n"
     ]
    }
   ],
   "source": [
    "X_ELU=sess.run(tf.nn.elu(X_array))\n",
    "print(X_ELU)"
   ]
  },
  {
   "cell_type": "code",
   "execution_count": 10,
   "metadata": {},
   "outputs": [
    {
     "name": "stderr",
     "output_type": "stream",
     "text": [
      "C:\\Users\\Krishna\\Anaconda3\\lib\\site-packages\\matplotlib\\legend.py:497: UserWarning: Unrecognized location \"left\". Falling back on \"best\"; valid locations are\n",
      "\tbest\n",
      "\tupper right\n",
      "\tupper left\n",
      "\tlower left\n",
      "\tlower right\n",
      "\tright\n",
      "\tcenter left\n",
      "\tcenter right\n",
      "\tlower center\n",
      "\tupper center\n",
      "\tcenter\n",
      "\n",
      "  % (loc, '\\n\\t'.join(self.codes)))\n"
     ]
    },
    {
     "data": {
      "image/png": "[encoded data removed]",
      "text/plain": [
       "<Figure size 432x288 with 1 Axes>"
      ]
     },
     "metadata": {
      "needs_background": "light"
     },
     "output_type": "display_data"
    }
   ],
   "source": [
    "plt.plot(X_array, X_relu, 'r-', label='relu')\n",
    "plt.plot(X_array, X_SOftPlus, 'r--', label='SoftPlus')\n",
    "plt.plot(X_array, X_ELU, 'r-', label='ELU ')\n",
    "plt.legend(loc='left')\n",
    "plt.show()"
   ]
  },
  {
   "cell_type": "code",
   "execution_count": 11,
   "metadata": {},
   "outputs": [
    {
     "data": {
      "image/png": "[encoded data removed]",
      "text/plain": [
       "<Figure size 432x288 with 1 Axes>"
      ]
     },
     "metadata": {
      "needs_background": "light"
     },
     "output_type": "display_data"
    }
   ],
   "source": [
    "plt.plot(X_array, X_Softsign, 'r-', label='Softsign')\n",
    "plt.plot(X_array, X_sigmoid, 'r--', label='Sigmoid')\n",
    "plt.plot(X_array, X_tanh, 'r-*', label='Tanh ')\n",
    "plt.legend(loc='left')\n",
    "plt.show()"
   ]
  }
 ],
 "metadata": {
  "kernelspec": {
   "display_name": "Python 3",
   "language": "python",
   "name": "python3"
  },
  "language_info": {
   "codemirror_mode": {
    "name": "ipython",
    "version": 3
   },
   "file_extension": ".py",
   "mimetype": "text/x-python",
   "name": "python",
   "nbconvert_exporter": "python",
   "pygments_lexer": "ipython3",
   "version": "3.7.1"
  }
 },
 "nbformat": 4,
 "nbformat_minor": 2
}
