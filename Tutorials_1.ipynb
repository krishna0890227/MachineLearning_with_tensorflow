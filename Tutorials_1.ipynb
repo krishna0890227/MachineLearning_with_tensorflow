{
 "cells": [
  {
   "cell_type": "markdown",
   "metadata": {},
   "source": [
    "# Simple program for Tutorial 1"
   ]
  },
  {
   "cell_type": "code",
   "execution_count": 2,
   "metadata": {},
   "outputs": [],
   "source": [
    "#A) Load the tensorflow and session \n",
    "import tensorflow as tf\n",
    "import numpy as np\n",
    "sess=tf.Session()\n"
   ]
  },
  {
   "cell_type": "markdown",
   "metadata": {},
   "source": [
    "### A) Element-wise Addition of Two matrix "
   ]
  },
  {
   "cell_type": "code",
   "execution_count": 6,
   "metadata": {},
   "outputs": [
    {
     "name": "stdout",
     "output_type": "stream",
     "text": [
      "[[-2.  6.  6.]\n",
      " [ 9.  3.  4.]]\n"
     ]
    }
   ],
   "source": [
    "# A) Addition of Two matrix\n",
    "A=tf.convert_to_tensor(np.array([[1., 4., 6.],[3., 2., 1.]]))\n",
    "B= tf.convert_to_tensor(np.array([[-3., 2., 0.], [6., 1., 3.]]))    \n",
    "print (sess.run(A+B))"
   ]
  },
  {
   "cell_type": "markdown",
   "metadata": {},
   "source": [
    "### B) Inverse of a Matrix: used tf.matrix_inverse function."
   ]
  },
  {
   "cell_type": "markdown",
   "metadata": {},
   "source": [
    "\n",
    "Meaning of inverse transformation: If we have matrix X that produce matrix Y, then there should be some sort of transformation. That Transformation can be defined by matrix A. But it we know Y and we need to find X, then we have to undo the Transformation A. The undo transformation of A is known as inverse of A.  $A{-1} $ itself is a transformation.  "
   ]
  },
  {
   "cell_type": "code",
   "execution_count": 9,
   "metadata": {},
   "outputs": [
    {
     "name": "stdout",
     "output_type": "stream",
     "text": [
      "[[-1.21428571 -0.64285714  1.35714286]\n",
      " [ 1.07142857  0.21428571 -0.78571429]\n",
      " [-0.28571429  0.14285714  0.14285714]]\n"
     ]
    }
   ],
   "source": [
    "# B) Inverse of a matrix \n",
    "C=tf.convert_to_tensor(np.array([[2., 4., 3.], [1., 3., 7.], [3., 5., 6.]]))\n",
    "print(sess.run(tf.matrix_inverse(C)))"
   ]
  },
  {
   "cell_type": "markdown",
   "metadata": {},
   "source": [
    "If matrix is symmetric positive definite then matrix inverse method follows cholesky \n",
    "decomposition otherwise it use LU decomposition. \n",
    "For cholesky decomposition  use= tf.cholesky(C)"
   ]
  },
  {
   "cell_type": "markdown",
   "metadata": {},
   "source": [
    "### C) Calculate Eigen values and Eigen Vectors"
   ]
  },
  {
   "cell_type": "markdown",
   "metadata": {},
   "source": [
    "Eigen values simply gives how much a vector in that direction is strecteched. since Eigen vectors are orthogonal \n",
    "with eigen the values, they that measured just a strectch of vectors orthgonally in their corresponding axis. \n"
   ]
  },
  {
   "cell_type": "code",
   "execution_count": 12,
   "metadata": {},
   "outputs": [
    {
     "name": "stdout",
     "output_type": "stream",
     "text": [
      "(array([-1.22123701,  0.11523239,  7.10600462]), array([[ 0.82624389,  0.24545232,  0.50702485],\n",
      "       [-0.2896801 , -0.58680799,  0.75613611],\n",
      "       [-0.4831216 ,  0.77162785,  0.41374386]]))\n"
     ]
    }
   ],
   "source": [
    "D=tf.convert_to_tensor(np.array([[1., 4., 3.], [3.,4.,2.],[2., 2., 1.]]))\n",
    "print(sess.run(tf.self_adjoint_eig(D)))"
   ]
  },
  {
   "cell_type": "markdown",
   "metadata": {},
   "source": [
    "The eigen values are in first rows. \n",
    "And subsequent vectors are the eign values. This can be known as eigen decomposition of a matrix."
   ]
  },
  {
   "cell_type": "code",
   "execution_count": null,
   "metadata": {},
   "outputs": [],
   "source": []
  },
  {
   "cell_type": "markdown",
   "metadata": {},
   "source": []
  },
  {
   "cell_type": "code",
   "execution_count": 11,
   "metadata": {},
   "outputs": [
    {
     "name": "stdout",
     "output_type": "stream",
     "text": [
      "[[[1. 2. 3. 4.]\n",
      "  [2. 3. 4. 5.]\n",
      "  [3. 4. 5. 6.]]\n",
      "\n",
      " [[2. 3. 4. 5.]\n",
      "  [3. 4. 5. 6.]\n",
      "  [4. 5. 6. 7.]]]\n",
      "[[100.]\n",
      " [130.]\n",
      " [160.]]\n",
      "[[130.]\n",
      " [160.]\n",
      " [190.]]\n"
     ]
    }
   ],
   "source": []
  }
 ],
 "metadata": {
  "kernelspec": {
   "display_name": "Python 3",
   "language": "python",
   "name": "python3"
  },
  "language_info": {
   "codemirror_mode": {
    "name": "ipython",
    "version": 3
   },
   "file_extension": ".py",
   "mimetype": "text/x-python",
   "name": "python",
   "nbconvert_exporter": "python",
   "pygments_lexer": "ipython3",
   "version": "3.7.1"
  }
 },
 "nbformat": 4,
 "nbformat_minor": 2
}
